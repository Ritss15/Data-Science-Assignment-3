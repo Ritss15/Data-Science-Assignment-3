{
 "cells": [
  {
   "cell_type": "code",
   "execution_count": 1,
   "metadata": {
    "colab": {
     "base_uri": "https://localhost:8080/"
    },
    "id": "EIosaEjHyVWI",
    "outputId": "753e19e4-4696-4fc8-8dd7-c91d101ea6a5"
   },
   "outputs": [
    {
     "name": "stdout",
     "output_type": "stream",
     "text": [
      "Z-statistic: 2.0\n"
     ]
    }
   ],
   "source": [
    "samplemean = 4050          # x̄ = Sample mean\n",
    "theoretical_mean = 4000     # μ = 1000 + 5*600\n",
    "sigma = 125                 # σ = 5 * 25\n",
    "n = 25                      # Sample size\n",
    "\n",
    "se = sigma / (n ** 0.5) # calculating standard error\n",
    "\n",
    "# Z-statistic\n",
    "zstat = (samplemean - theoretical_mean) / se\n",
    "print(\"Z-statistic:\", round(zstat, 4))\n"
   ]
  },
  {
   "cell_type": "code",
   "execution_count": 2,
   "metadata": {
    "colab": {
     "base_uri": "https://localhost:8080/"
    },
    "id": "ggtj6MJ7zQcl",
    "outputId": "d06b17bd-9a70-495c-8e60-7967718e49e0"
   },
   "outputs": [
    {
     "name": "stdout",
     "output_type": "stream",
     "text": [
      "Critical Z-value (α = 0.05): 1.6449\n"
     ]
    }
   ],
   "source": [
    "from scipy.stats import norm #norm bcz we will work with probabilities, quantiles, or random sampling related to the normal distribution.\n",
    "\n",
    "alpha = 0.05 #set alpha as 0.05\n",
    "zcritical = norm.ppf(1 - alpha) #to find critical value\n",
    "print(\"Critical Z-value (α = 0.05):\", round(zcritical, 4))\n"
   ]
  },
  {
   "cell_type": "code",
   "execution_count": 3,
   "metadata": {
    "colab": {
     "base_uri": "https://localhost:8080/"
    },
    "id": "SHiesha9Pbp0",
    "outputId": "c4757593-6755-412e-8614-5edb915e7fb8"
   },
   "outputs": [
    {
     "name": "stdout",
     "output_type": "stream",
     "text": [
      " Reject H₀: Evidence suggests weekly operating cost is higher than model.\n"
     ]
    }
   ],
   "source": [
    "if zstat > zcritical: # setting condition on basis of z value\n",
    "    print(\" Reject H₀: Evidence suggests weekly operating cost is higher than model.\")\n",
    "else:\n",
    "    print(\" Fail to Reject H₀: No strong evidence against the model.\")\n"
   ]
  },
  {
   "cell_type": "markdown",
   "id": "6ba9b93b",
   "metadata": {},
   "source": [
    "# Chi-Square Test Example\n",
    "Performing Chi-Square Test with sample data"
   ]
  },
  {
   "cell_type": "code",
   "execution_count": null,
   "id": "e3130d22",
   "metadata": {},
   "outputs": [],
   "source": [
    "\n",
    "import numpy as np\n",
    "from scipy.stats import chi2\n",
    "\n",
    "# Sample Observed and Expected frequencies\n",
    "observed = np.array([50, 30, 20])\n",
    "expected = np.array([45, 35, 20])\n",
    "\n",
    "# Chi-Square Statistic Calculation\n",
    "chi_square_stat = np.sum((observed - expected)**2 / expected)\n",
    "\n",
    "# Degrees of freedom = Number of categories - 1\n",
    "df = len(observed) - 1\n",
    "\n",
    "# Critical value at alpha = 0.05\n",
    "alpha = 0.05\n",
    "critical_value = chi2.ppf(1 - alpha, df)\n",
    "\n",
    "print(f\"Chi-Square Statistic: {chi_square_stat:.4f}\")\n",
    "print(f\"Critical Value (α=0.05, df={df}): {critical_value:.4f}\")\n",
    "\n",
    "# Decision\n",
    "if chi_square_stat > critical_value:\n",
    "    print(\"Reject Null Hypothesis: There is a significant difference between observed and expected frequencies.\")\n",
    "else:\n",
    "    print(\"Fail to Reject Null Hypothesis: No significant difference between observed and expected frequencies.\")\n"
   ]
  }
 ],
 "metadata": {
  "colab": {
   "provenance": []
  },
  "kernelspec": {
   "display_name": "base",
   "language": "python",
   "name": "python3"
  },
  "language_info": {
   "name": "python",
   "version": "3.12.7"
  }
 },
 "nbformat": 4,
 "nbformat_minor": 0
}
